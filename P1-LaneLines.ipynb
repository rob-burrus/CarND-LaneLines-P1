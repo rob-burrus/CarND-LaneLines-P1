{
 "cells": [
  {
   "cell_type": "code",
   "execution_count": 291,
   "metadata": {
    "collapsed": false
   },
   "outputs": [],
   "source": [
    "class line_tracker():\n",
    "    def __init__(self):\n",
    "        self.left_slopes = []\n",
    "        self.left_xs = []\n",
    "        self.right_slopes = []\n",
    "        self.right_xs = []\n",
    "    def get_line(self, slope, bottom_x, isLeft, top_y, bottom_y):\n",
    "        slopes = []\n",
    "        xs = []\n",
    "        if(isLeft):\n",
    "            if bottom_x > 0:\n",
    "                self.left_slopes.append(slope)\n",
    "                self.left_xs.append(bottom_x)\n",
    "            slopes = self.left_slopes\n",
    "            xs = self.left_xs\n",
    "        else:\n",
    "            if bottom_x > 0:\n",
    "                self.right_slopes.append(slope)\n",
    "                self.right_xs.append(bottom_x)\n",
    "            slopes = self.right_slopes\n",
    "            xs = self.right_xs\n",
    "            \n",
    "            \n",
    "        if(len(slopes) > 5):\n",
    "            length = len(slopes)\n",
    "            slopes = slopes[length-5:]\n",
    "            \n",
    "        if(len(xs) > 5):\n",
    "            length = len(xs)\n",
    "            xs = xs[length-5:]\n",
    "        \n",
    "        \n",
    "        \n",
    "        count = len(slopes)\n",
    "        sum_slope = 0\n",
    "        for s in slopes:\n",
    "            sum_slope += s\n",
    "        avg_slope = sum_slope / count\n",
    "        \n",
    "        sum_x = 0\n",
    "        for x in xs:\n",
    "            sum_x += x\n",
    "        avg_x = sum_x / count\n",
    "\n",
    "        #find y-intercept given the bottom point so we can extrapolate a line to find the top x-coordinate\n",
    "        b = bottom_y - avg_slope * avg_x\n",
    "        top_x = (top_y - b) / avg_slope\n",
    "        \n",
    "        \n",
    "        \n",
    "        return int(top_x), int(avg_x)\n",
    "            \n",
    "            \n",
    "            "
   ]
  },
  {
   "cell_type": "code",
   "execution_count": 292,
   "metadata": {
    "collapsed": true
   },
   "outputs": [],
   "source": [
    "#importing some useful packages\n",
    "import matplotlib.pyplot as plt\n",
    "import matplotlib.image as mpimg\n",
    "import numpy as np\n",
    "import cv2\n",
    "import math\n",
    "import os\n",
    "from moviepy.editor import VideoFileClip\n",
    "from IPython.display import HTML\n",
    "%matplotlib inline\n",
    "\n",
    "def grayscale(img):\n",
    "    \"\"\"Applies the Grayscale transform\n",
    "    This will return an image with only one color channel\n",
    "    but NOTE: to see the returned image as grayscale\n",
    "    you should call plt.imshow(gray, cmap='gray')\"\"\"\n",
    "    gray = cv2.cvtColor(img, cv2.COLOR_BGR2GRAY)\n",
    "    #plt.imshow(gray, cmap='Greys_r') #grayscaled image\n",
    "    #plt.show()\n",
    "    return  gray"
   ]
  },
  {
   "cell_type": "code",
   "execution_count": 293,
   "metadata": {
    "collapsed": true
   },
   "outputs": [],
   "source": [
    "def gaussian_blur(img, kernel_size):\n",
    "    \"\"\"Applies a Gaussian Noise kernel\"\"\"\n",
    "    return cv2.GaussianBlur(img, (kernel_size, kernel_size), 0)"
   ]
  },
  {
   "cell_type": "code",
   "execution_count": 294,
   "metadata": {
    "collapsed": true
   },
   "outputs": [],
   "source": [
    "def canny(img, low_threshold, high_threshold):\n",
    "    \"\"\"Applies the Canny transform\"\"\"\n",
    "    return cv2.Canny(img, low_threshold, high_threshold)"
   ]
  },
  {
   "cell_type": "code",
   "execution_count": 295,
   "metadata": {
    "collapsed": true
   },
   "outputs": [],
   "source": [
    "def region_of_interest(img, vertices):\n",
    "    \"\"\"\n",
    "    Applies an image mask.\n",
    "    \n",
    "    Only keeps the region of the image defined by the polygon\n",
    "    formed from `vertices`. The rest of the image is set to black.\n",
    "    \"\"\"\n",
    "    #defining a blank mask to start with\n",
    "    mask = np.zeros_like(img)   \n",
    "    \n",
    "    #defining a 3 channel or 1 channel color to fill the mask with depending on the input image\n",
    "    if len(img.shape) > 2:\n",
    "        channel_count = img.shape[2]  # i.e. 3 or 4 depending on your image\n",
    "        ignore_mask_color = (255,) * channel_count\n",
    "    else:\n",
    "        ignore_mask_color = 255\n",
    "        \n",
    "    #filling pixels inside the polygon defined by \"vertices\" with the fill color    \n",
    "    cv2.fillPoly(mask, vertices, ignore_mask_color)\n",
    "    \n",
    "    #returning the image only where mask pixels are nonzero\n",
    "    masked_image = cv2.bitwise_and(img, mask)\n",
    "    return masked_image"
   ]
  },
  {
   "cell_type": "code",
   "execution_count": 296,
   "metadata": {
    "collapsed": false
   },
   "outputs": [],
   "source": [
    "def draw_lines(img, lines, color=[255, 0, 0], thickness=8):\n",
    "    imshape = img.shape\n",
    "\n",
    "    left_slope = 0\n",
    "    left_xs = 0 #x-coordinates of left line segments when y = 540 (bottom of image)\n",
    "    left_count = 0\n",
    "    \n",
    "    right_slope = 0\n",
    "    right_xs = 0 #x-coordinates of right line segments when y = 540 (bottom of image)\n",
    "    right_count = 0\n",
    "    \n",
    "    for line in lines:\n",
    "        for x1,y1,x2,y2 in line:\n",
    "            slope = (y2-y1)/(x2-x1)\n",
    "            if slope > .3 or slope < -.3: #ignore line segments with a very shallow slope\n",
    "                b = y1 - slope * x1 #find y-intercept so we can find the x-coordinate when y=540\n",
    "                if slope < 0:\n",
    "                    left_slope += slope\n",
    "                    left_xs += (imshape[0] - b)/slope\n",
    "                    left_count += 1\n",
    "                else:\n",
    "                    right_slope += slope\n",
    "                    right_xs += (imshape[0] - b)/slope\n",
    "                    right_count += 1\n",
    "\n",
    "    #y-coordinates are fixed to the top and bottom of the region of interest\n",
    "    \n",
    "    top_y = int(.61 * imshape[0])\n",
    "    bottom_y = int(imshape[0])\n",
    "    \n",
    "    # average slope of line segments for each side of the lane\n",
    "    \n",
    "\n",
    "    \n",
    "    bottom_left_x = 0\n",
    "    bottom_right_x = 0\n",
    "    \n",
    "    if left_count > 0:\n",
    "        left_slope /= left_count\n",
    "        bottom_left_x = int(left_xs / left_count)\n",
    "    if right_count > 0:\n",
    "        right_slope /= right_count\n",
    "        bottom_right_x = int(right_xs / right_count)\n",
    "        \n",
    "\n",
    "    \n",
    "\n",
    "    \n",
    "\n",
    "    top_left_x, bottom_left_x = line_tracker.get_line(left_slope, bottom_left_x, True, top_y, bottom_y)\n",
    "    top_right_x, bottom_right_x = line_tracker.get_line(right_slope, bottom_right_x, False, top_y, bottom_y)\n",
    "    \n",
    "    cv2.line(img, (top_left_x, top_y), (bottom_left_x, bottom_y), color, thickness)\n",
    "    cv2.line(img, (top_right_x, top_y), (bottom_right_x, bottom_y), color, thickness)\n",
    "    \n",
    "\n",
    "    \n",
    "def draw_all_lines(img, lines, color=[255, 0, 0], thickness=6):\n",
    "    for line in lines:\n",
    "        for x1,y1,x2,y2 in line:\n",
    "            cv2.line(img, (x1, y1), (x2, y2), color, thickness)\n"
   ]
  },
  {
   "cell_type": "code",
   "execution_count": 297,
   "metadata": {
    "collapsed": true
   },
   "outputs": [],
   "source": [
    "def hough_lines(img, rho, theta, threshold, min_line_len, max_line_gap):\n",
    "    \"\"\"\n",
    "    `img` should be the output of a Canny transform.\n",
    "        \n",
    "    Returns an image with hough lines drawn.\n",
    "    \"\"\"\n",
    "    lines = cv2.HoughLinesP(img, rho, theta, threshold, np.array([]), minLineLength=min_line_len, maxLineGap=max_line_gap)\n",
    "    line_img = np.zeros((*img.shape, 3), dtype=np.uint8)\n",
    "    draw_lines(line_img, lines)\n",
    "    #draw_all_lines(line_img, lines)\n",
    "    return line_img"
   ]
  },
  {
   "cell_type": "code",
   "execution_count": 298,
   "metadata": {
    "collapsed": true
   },
   "outputs": [],
   "source": [
    "def weighted_img(img, initial_img, α=0.8, β=1., λ=0.):\n",
    "    \"\"\"\n",
    "    `img` is the output of the hough_lines(), An image with lines drawn on it.\n",
    "    Should be a blank image (all black) with lines drawn on it.\n",
    "    \n",
    "    `initial_img` should be the image before any processing.\n",
    "    \n",
    "    The result image is computed as follows:\n",
    "    \n",
    "    initial_img * α + img * β + λ\n",
    "    NOTE: initial_img and img must be the same shape!\n",
    "    \"\"\"\n",
    "    return cv2.addWeighted(initial_img, α, img, β, λ)"
   ]
  },
  {
   "cell_type": "code",
   "execution_count": 299,
   "metadata": {
    "collapsed": true
   },
   "outputs": [],
   "source": [
    "def process_image(image, line_tracker):\n",
    "    #reading in an image\n",
    "    #image = mpimg.imread('test_images/WhiteCarLaneSwitch.jpg')\n",
    "    #printing out some stats and plotting\n",
    "    #print('This image is:', type(image), 'with dimesions:', image.shape)\n",
    "    #plt.imshow(image)  \n",
    "    gray = grayscale(image)\n",
    "    \n",
    "\n",
    "    #apply Gaussian smoothing\n",
    "    blur_gray = gaussian_blur(gray,5)\n",
    "    #plt.imshow(blur_gray, cmap='Greys_r')\n",
    "\n",
    "    # Define our parameters for Canny and apply\n",
    "    edges = canny(blur_gray, 75, 225)\n",
    "    #plt.imshow(edges, cmap='Greys_r')\n",
    "\n",
    "    # This time we are defining a four sided polygon to mask\n",
    "    imshape = image.shape\n",
    "    \n",
    "    vertices = np.array([[(0,imshape[0]),(.47*imshape[1], .61*imshape[0]), (.53*imshape[1], .61*imshape[0]), (imshape[1],imshape[0])]], dtype=np.int32)\n",
    "    masked_edges = region_of_interest(edges, vertices)\n",
    "    #plt.imshow(masked_edges, cmap='Greys_r')\n",
    "\n",
    "    # Run Hough on edge detected image\n",
    "    # Output \"lines\" is an array containing endpoints of detected line segments\n",
    "    line_image = hough_lines(masked_edges, 1, np.pi/180, 35, 20, 8) \n",
    "    #plt.imshow(line_image)\n",
    "\n",
    "    # Draw the lines on the original image\n",
    "    original_with_lines = weighted_img(line_image, image, .8,1.0)\n",
    "    #plt.imshow(original_with_lines)\n",
    "    return original_with_lines"
   ]
  },
  {
   "cell_type": "code",
   "execution_count": 300,
   "metadata": {
    "collapsed": false,
    "deletable": true,
    "editable": true,
    "scrolled": true
   },
   "outputs": [
    {
     "name": "stdout",
     "output_type": "stream",
     "text": [
      "[MoviePy] >>>> Building video extra.mp4\n",
      "[MoviePy] Writing video extra.mp4\n"
     ]
    },
    {
     "name": "stderr",
     "output_type": "stream",
     "text": [
      "\n",
      "  0%|          | 0/251 [00:00<?, ?it/s]\u001b[A\n",
      "  2%|▏         | 6/251 [00:00<00:04, 53.80it/s]\u001b[A\n",
      "  5%|▍         | 12/251 [00:00<00:04, 54.27it/s]\u001b[A\n",
      "  7%|▋         | 18/251 [00:00<00:04, 54.13it/s]\u001b[A\n",
      " 10%|▉         | 24/251 [00:00<00:04, 54.54it/s]\u001b[A\n",
      " 12%|█▏        | 30/251 [00:00<00:04, 54.51it/s]\u001b[A\n",
      " 14%|█▍        | 36/251 [00:00<00:03, 54.60it/s]\u001b[A\n",
      " 17%|█▋        | 42/251 [00:00<00:03, 54.58it/s]\u001b[A\n",
      " 19%|█▉        | 48/251 [00:00<00:03, 51.32it/s]\u001b[A\n",
      " 21%|██        | 53/251 [00:01<00:04, 46.26it/s]\u001b[A\n",
      " 23%|██▎       | 58/251 [00:01<00:04, 41.25it/s]\u001b[A\n",
      " 25%|██▌       | 63/251 [00:01<00:04, 37.91it/s]\u001b[A\n",
      " 27%|██▋       | 67/251 [00:01<00:05, 35.03it/s]\u001b[A\n",
      " 28%|██▊       | 71/251 [00:01<00:05, 32.77it/s]\u001b[A\n",
      " 30%|██▉       | 75/251 [00:01<00:05, 32.14it/s]\u001b[A\n",
      " 31%|███▏      | 79/251 [00:01<00:05, 30.05it/s]\u001b[A\n",
      " 33%|███▎      | 83/251 [00:02<00:05, 29.66it/s]\u001b[A\n",
      " 35%|███▍      | 87/251 [00:02<00:05, 29.87it/s]\u001b[A\n",
      " 36%|███▋      | 91/251 [00:02<00:05, 30.30it/s]\u001b[A\n",
      " 38%|███▊      | 95/251 [00:02<00:05, 29.30it/s]\u001b[A\n",
      " 39%|███▉      | 98/251 [00:02<00:05, 29.41it/s]\u001b[A\n",
      " 40%|████      | 101/251 [00:02<00:05, 28.39it/s]\u001b[A\n",
      " 41%|████▏     | 104/251 [00:02<00:05, 28.36it/s]\u001b[A\n",
      " 43%|████▎     | 108/251 [00:02<00:04, 29.32it/s]\u001b[A\n",
      " 44%|████▍     | 111/251 [00:03<00:04, 28.81it/s]\u001b[A\n",
      " 45%|████▌     | 114/251 [00:03<00:04, 29.15it/s]\u001b[A\n",
      " 47%|████▋     | 117/251 [00:03<00:04, 29.16it/s]\u001b[A\n",
      " 48%|████▊     | 120/251 [00:03<00:04, 28.83it/s]\u001b[A\n",
      " 49%|████▉     | 124/251 [00:03<00:04, 29.08it/s]\u001b[A\n",
      " 51%|█████     | 127/251 [00:03<00:04, 28.75it/s]\u001b[A\n",
      " 52%|█████▏    | 130/251 [00:03<00:04, 26.86it/s]\u001b[A\n",
      " 53%|█████▎    | 133/251 [00:03<00:04, 27.04it/s]\u001b[A\n",
      " 54%|█████▍    | 136/251 [00:03<00:04, 26.54it/s]\u001b[A\n",
      " 55%|█████▌    | 139/251 [00:04<00:04, 26.40it/s]\u001b[A\n",
      " 57%|█████▋    | 142/251 [00:04<00:04, 25.75it/s]\u001b[A\n",
      " 58%|█████▊    | 145/251 [00:04<00:04, 26.00it/s]\u001b[A\n",
      " 59%|█████▉    | 148/251 [00:04<00:03, 26.50it/s]\u001b[A\n",
      " 60%|██████    | 151/251 [00:04<00:03, 27.36it/s]\u001b[A\n",
      " 61%|██████▏   | 154/251 [00:04<00:03, 27.89it/s]\u001b[A\n",
      " 63%|██████▎   | 157/251 [00:04<00:03, 26.80it/s]\u001b[A\n",
      " 64%|██████▎   | 160/251 [00:04<00:03, 26.12it/s]\u001b[A\n",
      " 65%|██████▍   | 163/251 [00:04<00:03, 25.27it/s]\u001b[A\n",
      " 66%|██████▌   | 166/251 [00:05<00:03, 24.16it/s]\u001b[A\n",
      " 67%|██████▋   | 169/251 [00:05<00:03, 24.09it/s]\u001b[A\n",
      " 69%|██████▊   | 172/251 [00:05<00:03, 24.33it/s]\u001b[A\n",
      " 70%|██████▉   | 175/251 [00:05<00:03, 24.19it/s]\u001b[A\n",
      " 71%|███████   | 178/251 [00:05<00:03, 24.06it/s]\u001b[A\n",
      " 72%|███████▏  | 181/251 [00:05<00:02, 24.58it/s]\u001b[A\n",
      " 73%|███████▎  | 184/251 [00:05<00:02, 25.67it/s]\u001b[A\n",
      " 75%|███████▍  | 187/251 [00:05<00:02, 23.96it/s]\u001b[A\n",
      " 76%|███████▌  | 190/251 [00:06<00:02, 23.73it/s]\u001b[A\n",
      " 77%|███████▋  | 193/251 [00:06<00:02, 22.55it/s]\u001b[A\n",
      " 78%|███████▊  | 196/251 [00:06<00:02, 22.29it/s]\u001b[A\n",
      " 79%|███████▉  | 199/251 [00:06<00:02, 22.50it/s]\u001b[A\n",
      " 80%|████████  | 202/251 [00:06<00:02, 22.01it/s]\u001b[A\n",
      " 82%|████████▏ | 205/251 [00:06<00:02, 22.37it/s]\u001b[A\n",
      " 83%|████████▎ | 208/251 [00:06<00:01, 23.24it/s]\u001b[A\n",
      " 84%|████████▍ | 211/251 [00:07<00:01, 23.55it/s]\u001b[A\n",
      " 85%|████████▌ | 214/251 [00:07<00:01, 23.04it/s]\u001b[A\n",
      " 86%|████████▋ | 217/251 [00:07<00:01, 22.71it/s]\u001b[A\n",
      " 88%|████████▊ | 220/251 [00:07<00:01, 23.72it/s]\u001b[A\n",
      " 89%|████████▉ | 223/251 [00:07<00:01, 24.22it/s]\u001b[A\n",
      " 90%|█████████ | 226/251 [00:07<00:01, 23.62it/s]\u001b[A\n",
      " 91%|█████████ | 229/251 [00:07<00:00, 23.96it/s]\u001b[A\n",
      " 92%|█████████▏| 232/251 [00:07<00:00, 24.38it/s]\u001b[A\n",
      " 94%|█████████▎| 235/251 [00:07<00:00, 24.77it/s]\u001b[A\n",
      " 95%|█████████▍| 238/251 [00:08<00:00, 25.23it/s]\u001b[A\n",
      " 96%|█████████▌| 241/251 [00:08<00:00, 26.07it/s]\u001b[A\n",
      " 97%|█████████▋| 244/251 [00:08<00:00, 26.63it/s]\u001b[A\n",
      " 98%|█████████▊| 247/251 [00:08<00:00, 27.21it/s]\u001b[A\n",
      "100%|██████████| 251/251 [00:08<00:00, 28.13it/s]\u001b[A\n",
      "\u001b[A"
     ]
    },
    {
     "name": "stdout",
     "output_type": "stream",
     "text": [
      "[MoviePy] Done.\n",
      "[MoviePy] >>>> Video ready: extra.mp4 \n",
      "\n",
      "CPU times: user 5.67 s, sys: 1.81 s, total: 7.48 s\n",
      "Wall time: 9.78 s\n"
     ]
    },
    {
     "data": {
      "text/html": [
       "\n",
       "<video width=\"960\" height=\"540\" controls>\n",
       " <source src=\"extra.mp4\">\n",
       "</video>\n"
      ],
      "text/plain": [
       "<IPython.core.display.HTML object>"
      ]
     },
     "execution_count": 300,
     "metadata": {},
     "output_type": "execute_result"
    }
   ],
   "source": [
    "\n",
    "   \n",
    "\n",
    "\n",
    "\n",
    "line_tracker = line_tracker()\n",
    "\n",
    "def process(img):\n",
    "    processed = process_image(img, line_tracker)\n",
    "    return processed\n",
    "\n",
    "#process(mpimg.imread('test_images/solidWhiteRight.jpg'))\n",
    "#white_output = 'white.mp4'\n",
    "#clip1 = VideoFileClip(\"solidWhiteRight.mp4\")\n",
    "#white_clip = clip1.fl_image(process) #NOTE: this function expects color images!!\n",
    "#%time white_clip.write_videofile(white_output, audio=False)\n",
    "\n",
    "#yellow_output = 'yellow.mp4'\n",
    "#clip2 = VideoFileClip('solidYellowLeft.mp4')\n",
    "#yellow_clip = clip2.fl_image(process)\n",
    "#%time yellow_clip.write_videofile(yellow_output, audio=False)\n",
    "\n",
    "challenge_output = 'extra.mp4'\n",
    "clip2 = VideoFileClip('challenge.mp4')\n",
    "challenge_clip = clip2.fl_image(process)\n",
    "%time challenge_clip.write_videofile(challenge_output, audio=False)\n",
    "\n",
    "HTML(\"\"\"\n",
    "<video width=\"960\" height=\"540\" controls>\n",
    " <source src=\"{0}\">\n",
    "</video>\n",
    "\"\"\".format(challenge_output))\n",
    "\n"
   ]
  },
  {
   "cell_type": "markdown",
   "metadata": {
    "collapsed": true,
    "deletable": true,
    "editable": true
   },
   "source": [
    "\n"
   ]
  },
  {
   "cell_type": "code",
   "execution_count": null,
   "metadata": {
    "collapsed": true,
    "deletable": true,
    "editable": true
   },
   "outputs": [],
   "source": []
  }
 ],
 "metadata": {
  "anaconda-cloud": {},
  "kernelspec": {
   "display_name": "Python 3",
   "language": "python",
   "name": "python3"
  },
  "language_info": {
   "codemirror_mode": {
    "name": "ipython",
    "version": 3
   },
   "file_extension": ".py",
   "mimetype": "text/x-python",
   "name": "python",
   "nbconvert_exporter": "python",
   "pygments_lexer": "ipython3",
   "version": "3.5.2"
  },
  "widgets": {
   "state": {},
   "version": "1.1.2"
  }
 },
 "nbformat": 4,
 "nbformat_minor": 1
}
